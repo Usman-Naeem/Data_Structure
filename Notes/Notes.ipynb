{
 "cells": [
  {
   "cell_type": "markdown",
   "metadata": {},
   "source": [
    "# Data Structures and Algroithms \n",
    "**These notes are not intend for newbies, it has prerequisites:**\n",
    "1. Strong knowledge of any programming including well understanding of OOP\n",
    "2. Basics knowledge of DIscrete Structure topic including, Proofs, Mathematical inductions, probability.and graph theory.\n",
    "\n",
    "These notes will cover Data Structures, Algroithms and etc."
   ]
  },
  {
   "cell_type": "code",
   "execution_count": 3,
   "metadata": {},
   "outputs": [
    {
     "name": "stdout",
     "output_type": "stream",
     "text": [
      "Hello DSA\n"
     ]
    }
   ],
   "source": [
    "# have a fun \n",
    "def dsa():\n",
    "    print(\"Hello DSA\")\n",
    "dsa()"
   ]
  },
  {
   "cell_type": "markdown",
   "metadata": {},
   "source": [
    "\n",
    "Data structure as its name suggests organized data into a meaningful way, whereby algorithms are step by step procedures to solve computation problems.\n",
    "The question can be asked why so many data structures and algorithms? Yes, it's absolutely right question to answer this question we need to consider the performance, complexity and optimized solution here we mean by **asymptotic complexity**. So in that case we will considered **Worst Case**\n",
    "\n",
    "General problems in computers are searching and sorting, Everyone uses google nowadays, why? Because it gets the result so fast, with a blink of an eye. By sorting the data can be accessed, search or get more quickly. So that is why sorting and searching algorithms come into handy\n",
    "\n",
    "## Searching\n",
    "Searching is not meant to display records other than it means to find specific records if found then perform necessary action in our note we will consider three common searching algorithms.\n",
    "1.  Linear Search\n",
    "2.  Binary Search\n",
    "\n",
    "## Linear Search\n",
    "Linear search is a very simple and straightforward searching algorithm, it starts comparing with the beginning of the list/array until the last element is found or item that we're searching for.  It is also referred to as sequential search as we go in a sequence. It can be considered as old school magnetic tape where songs are stored sequence wise, so if we want to play the last song then we need to move the tape to that position.\n",
    "### Complicity of Linear Search\n",
    "The Worst Case Complicity of linear search is O(n), equal to the size of input.\n",
    "Hence linear search is not the best solution for large datasets.\n",
    "The deeply analysis can be found [here](https://github.com/lablnet/Data_Structure/tree/main/analysis/linear_search.pdf)\n",
    "### Algorithm\n",
    "1. Consider a set `A = {1,2,3 ... n}` having elements on it.\n",
    "2. Let's consider that we want to find `3` in the given set.\n",
    "3. Transverse through the list/array up to `n`.\n",
    "4. Compare the `A[i]` with item `3`\n",
    "5. If found, return it, and loop end.\n",
    "6. If the item is not found and loop end, then it means we did not find any element.\n",
    "\n",
    "\n",
    "### Pseudocode\n",
    "\n",
    " ```python    \n",
    "    A = {1,2,3,4,5,6 ..}\n",
    "    item = 3\n",
    "    for i 1 to n:\n",
    "       if A[i] == item\n",
    "           return i\n",
    "    return -1\n",
    " ```\n",
    " \n",
    " \n",
    "### Python implementation "
   ]
  },
  {
   "cell_type": "code",
   "execution_count": 2,
   "metadata": {},
   "outputs": [
    {
     "name": "stdout",
     "output_type": "stream",
     "text": [
      "2\n",
      "-1\n"
     ]
    }
   ],
   "source": [
    "def linear_search(lst: list, item: int):\n",
    "    for i in range(len(lst)): # Step 3\n",
    "        if lst[i] == item: # Step 4\n",
    "            return i # Step 5\n",
    "\n",
    "    return -1 # Step 6\n",
    "\n",
    "lst = [1, 5, 3, 2, 4, 9, 0] # Steo 1\n",
    "print(linear_search(lst, 3)) # Step 2 // Item found\n",
    "print(linear_search(lst, 40)) # Step 2 // Item not found\n"
   ]
  }
 ],
 "metadata": {
  "kernelspec": {
   "display_name": "Python 3",
   "language": "python",
   "name": "python3"
  },
  "language_info": {
   "codemirror_mode": {
    "name": "ipython",
    "version": 3
   },
   "file_extension": ".py",
   "mimetype": "text/x-python",
   "name": "python",
   "nbconvert_exporter": "python",
   "pygments_lexer": "ipython3",
   "version": "3.8.5"
  }
 },
 "nbformat": 4,
 "nbformat_minor": 4
}
