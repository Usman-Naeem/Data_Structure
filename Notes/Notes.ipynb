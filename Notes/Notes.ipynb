{
 "cells": [
  {
   "cell_type": "markdown",
   "metadata": {},
   "source": [
    "# Data Structures and Algroithms \n",
    "**These notes are not intend for newbies, it has prerequisites:**\n",
    "1. Strong knowledge of any programming including well understanding of OOP\n",
    "2. Basics knowledge of DIscrete Structure topic including, Proofs, Mathematical inductions, probability.and graph theory.\n",
    "\n",
    "These notes will cover Data Structures, Algroithms and etc."
   ]
  },
  {
   "cell_type": "code",
   "execution_count": 39,
   "metadata": {},
   "outputs": [
    {
     "name": "stdout",
     "output_type": "stream",
     "text": [
      "Hello DSA\n"
     ]
    }
   ],
   "source": [
    "# have a fun \n",
    "def dsa():\n",
    "    print(\"Hello DSA\")\n",
    "dsa()"
   ]
  },
  {
   "cell_type": "markdown",
   "metadata": {},
   "source": [
    "Data structure as its name suggests organized data into a meaningful way, whereby algorithms are step by step procedures to solve computation problems.\n",
    "\n",
    "The question can be asked why so many data structures and algorithms? Yes, it's absolutely right question to answer this question we need to consider the performance, complexity and optimized solution here we mean by **asymptotic complexity**. So in that case we will considered **Worst Case**\n",
    "\n",
    "  \n",
    "\n",
    "General problems in computers are searching and sorting, Everyone uses google nowadays, why? Because it gets the result so fast, with a blink of an eye. By sorting the data can be accessed, search or get more quickly. So that is why sorting and searching algorithms come into handy\n",
    "\n",
    "  \n",
    "\n",
    "## Algorithmic paradigms\n",
    "\n",
    "Algorithm paradigm is a general approach which underlies the class of an algorithm.\n",
    "\n",
    "  \n",
    "\n",
    "### Divide and Conquer\n",
    "\n",
    "Divide the problems into subproblems until they become very simple to solve directly by recursively or iteratively, then solve and put the solution in a given set.\n",
    "\n",
    "**Example:** Binary Search, Merge Sort etc.\n",
    "\n",
    "  \n",
    "\n",
    "### Greedy Algorithms\n",
    "\n",
    "Try to find an optimal solution and then stop and never go ahead and back.\n",
    "\n",
    "**Example:** Cashier Algorithm, knapsack problem etc.\n",
    "\n",
    "### Dynamic Programming\n",
    "\n",
    "Breaking problems into collections of simple subproblems.\n",
    "\n",
    "**Example:** Tower of Hanoi,\n",
    "\n",
    "  \n",
    "\n",
    "### Brute-force search\n",
    "\n",
    "Enumerate all possible elements in a given set, check whether the condition is found.\n",
    "\n",
    "**Example:** Linear Search, Minmax etc.\n",
    "\n",
    "  \n",
    "\n",
    "## Searching\n",
    "\n",
    "Searching is not meant to display records other than it means to find specific records if found then perform necessary action in our note we will consider three common searching algorithms.\n",
    "\n",
    "1. Linear Search\n",
    "\n",
    "2. Binary Search\n",
    "\n",
    "  \n",
    "\n",
    "## Linear Search\n",
    "\n",
    "Linear search is a very simple and straightforward searching algorithm, it starts comparing with the beginning of the list/array until the last element is found or item that we're searching for. It is also referred to as sequential search as we go in a sequence. It can be considered as old school magnetic tape where songs are stored sequence wise, so if we want to play the last song then we need to move the tape to that position.\n",
    "\n",
    "It is a brute force paradigm algorithm.\n",
    "\n",
    "  \n",
    "\n",
    "### Complexity of Linear Search\n",
    "\n",
    "The Worst Case Complexity of linear search is O(n), equal to the size of input.\n",
    "\n",
    "Hence linear search is not the best solution for large datasets.\n",
    "\n",
    "The deeply analysis can be found [here](https://github.com/lablnet/Data_Structure/tree/main/analysis/linear_search.pdf)\n",
    "\n",
    "### Algorithm\n",
    "\n",
    "1. Consider a set `A = {1,2,3 ... n}` having elements on it.\n",
    "\n",
    "2. Let's consider that we want to find `3` in the given set.\n",
    "\n",
    "3. Transverse through the list/array up to `n`.\n",
    "\n",
    "4. Compare the `A[i]` with item `3`\n",
    "\n",
    "5. If found, return it, and terminate the loop.\n",
    "\n",
    "6. If the item is not found and loop terminate, then it means we did not find any element.\n",
    "\n",
    "  \n",
    "  \n",
    "\n",
    "### Pseudocode\n",
    "\n",
    "  \n",
    "\n",
    "```python\n",
    "\n",
    "A := {1,2,3,4,5,6 ..}\n",
    "item := 3\n",
    "for i 1 to n:\n",
    "    if A[i] == item\n",
    "        return i\n",
    "return -1\n",
    "\n",
    "```\n",
    "\n",
    "### Python implementation"
   ]
  },
  {
   "cell_type": "code",
   "execution_count": 40,
   "metadata": {},
   "outputs": [
    {
     "name": "stdout",
     "output_type": "stream",
     "text": [
      "2\n",
      "-1\n"
     ]
    }
   ],
   "source": [
    "def linear_search(lst: list, item: int):\n",
    "    for i in range(len(lst)): # Step 3\n",
    "        if lst[i] == item: # Step 4\n",
    "            return i # Step 5\n",
    "\n",
    "    return -1 # Step 6\n",
    "\n",
    "lst = [1, 5, 3, 2, 4, 9, 0] # Steo 1\n",
    "print(linear_search(lst, 3)) # Step 2 // Item found\n",
    "print(linear_search(lst, 40)) # Step 2 // Item not found\n"
   ]
  },
  {
   "cell_type": "markdown",
   "metadata": {},
   "source": [
    "## Binary Search\n",
    "\n",
    "Binary Search is a common algorithm that is used on sorted lists/arrays. Binary Search starts with the middle of the array/list and then compares to the targeted value, if values equals return it. Otherwise if it is less than middle element then the target value will be lies in left sub-list/sub-array and if it is greater than targeted value then the target value will be lies in right sub-list/sub-array, the process will continue until end of array or target value found.\n",
    "Binary search assumes that our list/array is sorted, so we must provide the sorted input array/list to binary search.\n",
    "\n",
    "\n",
    "It is a divide and conquer paradigm algorithm.\n",
    "\n",
    "\n",
    "### Complexity of Binary Search\n",
    "\n",
    "  \n",
    "\n",
    "The Worst Case Complexity of binary search is O(log n), log to the n to the size of input.\n",
    "\n",
    "Hence binary search can be considered as the best solution for large datasets.\n",
    "\n",
    "  \n",
    "The deeply analysis can be found [here](https://github.com/lablnet/Data_Structure/tree/main/analysis/bnary_search.pdf)\n",
    "\n",
    "### Algorithm  \n",
    "\n",
    "1. Consider a set `A = {1,2,3 ... n}` having elements on it.\n",
    "2. Let's consider that we want to find `3` in the given set.\n",
    "3. Set L equals zero, and R equals length of A\n",
    "4. Transverse through the list until L is less than R`.\n",
    "5. Find the Middle by following the formula.\n",
    "\t\ta. Middle = (Left + Right) / 2\n",
    "6. Compare the `A[middle]` with item `3`\n",
    "7. If it equals return it and loop terminate.\n",
    "8. If it is less than target value `3`then increment the middle by 1 and assign to L.\n",
    "9. Else decrement the middle by 1 and assign to L\n",
    "11. If the item is not found and the loop terminates, then it means we did not find any element.\n",
    "  \n",
    "\n",
    "### Pseudocode\n",
    "```python\n",
    "A := {1,2,3,4,5,6 ..}\n",
    "item := 3\n",
    "L := 0\n",
    "R := len(A)\n",
    "while L < R:\n",
    "\tMiddle := (L + R) / 2\n",
    "\t\tif A[Middle] == item:\n",
    "\t\t\treturn i\n",
    "\t\telse if A[Middle] < item:\n",
    "\t\t\tL := Middle + 1\n",
    "\t\telse:\n",
    "\t\t\tR := Middle - 1\n",
    "return -1\n",
    "```\n",
    "\n",
    " \n",
    "\n",
    "### Python implementation"
   ]
  },
  {
   "cell_type": "code",
   "execution_count": 41,
   "metadata": {},
   "outputs": [
    {
     "name": "stdout",
     "output_type": "stream",
     "text": [
      "5\n",
      "-1\n"
     ]
    }
   ],
   "source": [
    "def binary_search(lst: list, item: int):\n",
    "    lst = sorted(lst) # Binary Search assume that list/array should be sorted.\n",
    "    first = 0 # Step 3\n",
    "    last = len(lst) - 1 # Step 3\n",
    "\n",
    "    while first <= last: # Step 4\n",
    "        mid = (last + first) // 2 # Step 5.a\n",
    "\n",
    "        if lst[mid] == item: # Step 6\n",
    "            return mid # Step 7\n",
    "        elif lst[mid] < item: # Step 8\n",
    "            first = mid + 1\n",
    "        else: # Step 9\n",
    "            last = mid - 1\n",
    "\n",
    "    return -1 # Step 10\n",
    "\n",
    "\n",
    "lst = [1, 2, 3, 4, 5, 6, 7, 8, 9, 10, 11] # Step 1\n",
    "print(binary_search(lst, 6)) # Step 2 // Item found\n",
    "print(binary_search(lst, 12)) # Step 2 // Item not found\n"
   ]
  },
  {
   "cell_type": "markdown",
   "metadata": {},
   "source": [
    "### Visulize the running time of Algroithms.\n",
    "Okay, now we have two working algorithms.  Which one is faster?"
   ]
  },
  {
   "cell_type": "code",
   "execution_count": 49,
   "metadata": {},
   "outputs": [
    {
     "data": {
      "text/plain": [
       "Text(0.5, 1.0, 'Linear Search Vs Binary Search')"
      ]
     },
     "execution_count": 49,
     "metadata": {},
     "output_type": "execute_result"
    },
    {
     "data": {
      "image/png": "[encoded data removed]",
      "text/plain": [
       "<Figure size 432x288 with 1 Axes>"
      ]
     },
     "metadata": {
      "needs_background": "light"
     },
     "output_type": "display_data"
    }
   ],
   "source": [
    "from tryItABunch import tryItABunch\n",
    "\n",
    "\n",
    "nlinearSearch, tlinearSearch = tryItABunch( linear_search, startN = 50, endN = 1050, stepSize=50, numTrials=10, listMax = 100, algo = \"searching\" )\n",
    "nBinarySearch, tBinarySearch = tryItABunch( binary_search, startN = 50, endN = 1050, stepSize=50, numTrials=10, listMax = 100, algo = \"searching\") \n",
    "\n",
    "plt.plot(nlinearSearch, tlinearSearch, color=\"red\", label=\"Linear Search\")\n",
    "plt.plot(nBinarySearch, tBinarySearch, color=\"blue\", label=\"Binary Search\")\n",
    "plt.xlabel(\"n\")\n",
    "plt.ylabel(\"Time(ms)\")\n",
    "plt.legend()\n",
    "plt.title(\"Linear Search Vs Binary Search\")\n"
   ]
  }
 ],
 "metadata": {
  "kernelspec": {
   "display_name": "Python 3",
   "language": "python",
   "name": "python3"
  },
  "language_info": {
   "codemirror_mode": {
    "name": "ipython",
    "version": 3
   },
   "file_extension": ".py",
   "mimetype": "text/x-python",
   "name": "python",
   "nbconvert_exporter": "python",
   "pygments_lexer": "ipython3",
   "version": "3.8.5"
  }
 },
 "nbformat": 4,
 "nbformat_minor": 4
}
