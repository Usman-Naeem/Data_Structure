{
 "cells": [
  {
   "cell_type": "markdown",
   "metadata": {},
   "source": [
    "# Data Structures and Algroithms "
   ]
  },
  {
   "cell_type": "code",
   "execution_count": 3,
   "metadata": {},
   "outputs": [
    {
     "name": "stdout",
     "output_type": "stream",
     "text": [
      "Hello DSA\n"
     ]
    }
   ],
   "source": [
    "# have a fun \n",
    "def dsa():\n",
    "    print(\"Hello DSA\")\n",
    "dsa()"
   ]
  },
  {
   "cell_type": "markdown",
   "metadata": {},
   "source": [
    "Data structure as its name suggests organized data into a meaningful way, whereby algorithms are step by step procedures to solve computation problems.\n",
    "The question can be asked why so many data structures and algorithms? Yes, it's absolutely right question to answer this question we need to consider the performance, complexity and optimized solution here we mean by **asymptotic complexity** "
   ]
  }
 ],
 "metadata": {
  "kernelspec": {
   "display_name": "Python 3",
   "language": "python",
   "name": "python3"
  },
  "language_info": {
   "codemirror_mode": {
    "name": "ipython",
    "version": 3
   },
   "file_extension": ".py",
   "mimetype": "text/x-python",
   "name": "python",
   "nbconvert_exporter": "python",
   "pygments_lexer": "ipython3",
   "version": "3.8.5"
  }
 },
 "nbformat": 4,
 "nbformat_minor": 4
}
